{
 "cells": [
  {
   "cell_type": "markdown",
   "id": "3bf18fab",
   "metadata": {},
   "source": [
    "### Gradient Descent"
   ]
  },
  {
   "cell_type": "markdown",
   "id": "31de4e68",
   "metadata": {},
   "source": [
    "Gradient descent is an optimization algorithm that is commonly used in machine learning for finding the optimal values of the parameters of a model. It works by iteratively adjusting the parameters in the direction of steepest descent of the cost function until a minimum is reached. Here is a step-by-step explanation of how gradient descent works for both two variables and multiple variables:"
   ]
  },
  {
   "cell_type": "markdown",
   "id": "a1ec637f",
   "metadata": {},
   "source": [
    "### Gradient Descent for Two Variables:\n",
    "\n",
    "Initialize the parameters: Choose initial values for the parameters that need to be optimized, such as the intercept and slope of a linear regression model.\n",
    "\n",
    "Calculate the cost function: Evaluate the cost function, which measures the difference between the predicted values and the actual values for the training data.\n",
    "\n",
    "Calculate the gradient: Calculate the partial derivative of the cost function with respect to each parameter. This gives the direction of steepest ascent, so we negate the gradient to get the direction of steepest descent.\n",
    "\n",
    "Update the parameters: Adjust the values of the parameters by moving them in the direction of the negative gradient, scaled by a learning rate. The learning rate determines the step size of each iteration, and needs to be chosen carefully to ensure that the algorithm converges to a minimum.\n",
    "\n",
    "Repeat steps 2-4 until convergence: Calculate the cost function, update the parameters, and check whether the change in the cost function is below a certain threshold. If it is, we have reached a minimum and can stop. Otherwise, we continue iterating until convergence."
   ]
  },
  {
   "cell_type": "code",
   "execution_count": 11,
   "id": "66e539f9",
   "metadata": {},
   "outputs": [],
   "source": [
    "import numpy as np\n",
    "import matplotlib.pyplot as plt"
   ]
  },
  {
   "cell_type": "code",
   "execution_count": 2,
   "id": "d8605c31",
   "metadata": {},
   "outputs": [],
   "source": [
    "# define the cost function\n",
    "def cost_function(X, y, theta):\n",
    "    m = len(y)\n",
    "    J = np.sum((X.dot(theta) - y) ** 2) / (2 * m)\n",
    "    return J"
   ]
  },
  {
   "cell_type": "code",
   "execution_count": 3,
   "id": "f53f6931",
   "metadata": {},
   "outputs": [],
   "source": [
    "# define the gradient descent function\n",
    "def gradient_descent(X, y, theta, alpha, num_iters):\n",
    "    m = len(y)\n",
    "    J_history = np.zeros(num_iters)\n",
    "    \n",
    "    for i in range(num_iters):\n",
    "        h = X.dot(theta)\n",
    "        theta = theta - (alpha / m) * X.T.dot(h - y)\n",
    "        J_history[i] = cost_function(X, y, theta)\n",
    "    \n",
    "    return theta, J_history"
   ]
  },
  {
   "cell_type": "code",
   "execution_count": 4,
   "id": "2d122c9c",
   "metadata": {},
   "outputs": [],
   "source": [
    "# generate some sample data\n",
    "m = 100\n",
    "X = np.random.rand(m, 2)\n",
    "y = 3 * X[:, 0] + 5 * X[:, 1] + np.random.randn(m)"
   ]
  },
  {
   "cell_type": "code",
   "execution_count": 5,
   "id": "e9781ea1",
   "metadata": {},
   "outputs": [],
   "source": [
    "# add a column of ones to X for the intercept term\n",
    "X = np.c_[np.ones(m), X]"
   ]
  },
  {
   "cell_type": "code",
   "execution_count": 6,
   "id": "b05f2c61",
   "metadata": {},
   "outputs": [],
   "source": [
    "# set initial values for the parameters\n",
    "theta = np.zeros(3)"
   ]
  },
  {
   "cell_type": "code",
   "execution_count": 7,
   "id": "5cfa602d",
   "metadata": {},
   "outputs": [],
   "source": [
    "# set the learning rate and number of iterations\n",
    "alpha = 0.01\n",
    "num_iters = 1000"
   ]
  },
  {
   "cell_type": "code",
   "execution_count": 8,
   "id": "85ce9cac",
   "metadata": {},
   "outputs": [],
   "source": [
    "# run gradient descent to optimize the parameters\n",
    "theta_final, J_history = gradient_descent(X, y, theta, alpha, num_iters)"
   ]
  },
  {
   "cell_type": "code",
   "execution_count": 9,
   "id": "0d43097b",
   "metadata": {},
   "outputs": [
    {
     "name": "stdout",
     "output_type": "stream",
     "text": [
      "Final parameters: [1.3840024  2.24118074 3.34156781]\n",
      "Final cost function value: 0.712843781258966\n"
     ]
    }
   ],
   "source": [
    "# print the final parameters and cost function value\n",
    "print(\"Final parameters:\", theta_final)\n",
    "print(\"Final cost function value:\", J_history[-1])"
   ]
  },
  {
   "cell_type": "markdown",
   "id": "41949afd",
   "metadata": {},
   "source": [
    "This code defines a cost function and a gradient descent function, and applies them to a sample dataset to optimize the parameters of a linear regression model. The cost function measures the difference between the predicted values and the actual values, and the gradient descent function updates the parameters in the direction of steepest descent of the cost function. The final parameters and cost function value are printed at the end. This code can be adapted for multiple variables by changing the dimensions of X and theta accordingly."
   ]
  },
  {
   "cell_type": "code",
   "execution_count": 12,
   "id": "6ff65903",
   "metadata": {},
   "outputs": [
    {
     "data": {
      "image/png": "[encoded data removed]",
      "text/plain": [
       "<Figure size 432x288 with 1 Axes>"
      ]
     },
     "metadata": {
      "needs_background": "light"
     },
     "output_type": "display_data"
    }
   ],
   "source": [
    "# plot the cost function vs the number of iterations\n",
    "plt.plot(np.arange(num_iters), J_history)\n",
    "plt.xlabel('Number of iterations')\n",
    "plt.ylabel('Cost function value')\n",
    "plt.show()"
   ]
  },
  {
   "cell_type": "markdown",
   "id": "a156c607",
   "metadata": {},
   "source": [
    "The x-axis represents the number of iterations, while the y-axis represents the value of the cost function. This plot can be used to visually confirm that the cost function decreases over time, and to check for convergence. If the cost function appears to plateau or oscillate, it may be necessary to adjust the learning rate or number of iterations to achieve convergence."
   ]
  },
  {
   "cell_type": "markdown",
   "id": "6b6c4852",
   "metadata": {},
   "source": [
    "### Gradient Descent for Multiple Variables:\n",
    "\n",
    "Initialize the parameters: Choose initial values for the parameters that need to be optimized, such as the coefficients of a linear regression model.\n",
    "\n",
    "Calculate the cost function: Evaluate the cost function, which measures the difference between the predicted values and the actual values for the training data.\n",
    "\n",
    "Calculate the gradient: Calculate the partial derivative of the cost function with respect to each parameter. This gives the direction of steepest ascent, so we negate the gradient to get the direction of steepest descent.\n",
    "\n",
    "Update the parameters: Adjust the values of the parameters by moving them in the direction of the negative gradient, scaled by a learning rate. The learning rate determines the step size of each iteration, and needs to be chosen carefully to ensure that the algorithm converges to a minimum.\n",
    "\n",
    "Repeat steps 2-4 until convergence: Calculate the cost function, update the parameters, and check whether the change in the cost function is below a certain threshold. If it is, we have reached a minimum and can stop. Otherwise, we continue iterating until convergence.\n",
    "\n",
    "Use the optimized parameters: Once the algorithm has converged, we can use the optimized parameters to make predictions on new data or for further analysis.\n",
    "\n",
    "In summary, gradient descent is an iterative optimization algorithm that adjusts the parameters of a model in the direction of steepest descent of the cost function. By updating the parameters in each iteration, the algorithm eventually converges to a minimum that corresponds to the optimal values of the parameters."
   ]
  },
  {
   "cell_type": "code",
   "execution_count": 14,
   "id": "d1fe5cf6",
   "metadata": {},
   "outputs": [],
   "source": [
    "# define the cost function\n",
    "def cost_function(X, y, theta):\n",
    "    m = len(y)\n",
    "    J = np.sum((X.dot(theta) - y) ** 2) / (2 * m)\n",
    "    return J"
   ]
  },
  {
   "cell_type": "code",
   "execution_count": 15,
   "id": "0b2ab3b6",
   "metadata": {},
   "outputs": [],
   "source": [
    "# define the gradient descent function\n",
    "def gradient_descent(X, y, theta, alpha, num_iters):\n",
    "    m = len(y)\n",
    "    J_history = np.zeros(num_iters)\n",
    "    \n",
    "    for i in range(num_iters):\n",
    "        h = X.dot(theta)\n",
    "        theta = theta - (alpha / m) * X.T.dot(h - y)\n",
    "        J_history[i] = cost_function(X, y, theta)\n",
    "    \n",
    "    return theta, J_history"
   ]
  },
  {
   "cell_type": "code",
   "execution_count": 16,
   "id": "b06fbb32",
   "metadata": {},
   "outputs": [],
   "source": [
    "# generate some sample data\n",
    "m = 100\n",
    "n = 5\n",
    "X = np.random.rand(m, n)\n",
    "y = 2 * X[:, 0] - 3 * X[:, 1] + 4 * X[:, 2] + np.random.randn(m)"
   ]
  },
  {
   "cell_type": "code",
   "execution_count": 17,
   "id": "0c905c8d",
   "metadata": {},
   "outputs": [],
   "source": [
    "# add a column of ones to X for the intercept term\n",
    "X = np.c_[np.ones(m), X]"
   ]
  },
  {
   "cell_type": "code",
   "execution_count": 18,
   "id": "8dba52a1",
   "metadata": {},
   "outputs": [],
   "source": [
    "# set initial values for the parameters\n",
    "theta = np.zeros(n + 1)"
   ]
  },
  {
   "cell_type": "code",
   "execution_count": 19,
   "id": "6565748e",
   "metadata": {},
   "outputs": [],
   "source": [
    "# set the learning rate and number of iterations\n",
    "alpha = 0.01\n",
    "num_iters = 1000"
   ]
  },
  {
   "cell_type": "code",
   "execution_count": 20,
   "id": "a4342086",
   "metadata": {},
   "outputs": [],
   "source": [
    "# run gradient descent to optimize the parameters\n",
    "theta_final, J_history = gradient_descent(X, y, theta, alpha, num_iters)"
   ]
  },
  {
   "cell_type": "code",
   "execution_count": 21,
   "id": "8563c11c",
   "metadata": {},
   "outputs": [
    {
     "name": "stdout",
     "output_type": "stream",
     "text": [
      "Final parameters: [ 0.5232325   1.39299261 -1.83713923  2.56559002 -0.14917096 -0.01916145]\n",
      "Final cost function value: 0.8028861504596574\n"
     ]
    }
   ],
   "source": [
    "# print the final parameters and cost function value\n",
    "print(\"Final parameters:\", theta_final)\n",
    "print(\"Final cost function value:\", J_history[-1])"
   ]
  },
  {
   "cell_type": "markdown",
   "id": "79111447",
   "metadata": {},
   "source": [
    "This code is similar to the previous example, but uses a dataset with multiple variables. The cost function and gradient descent function are defined in the same way, but the dimensions of X and theta are adjusted to match the number of variables. The final parameters and cost function value are printed at the end. This code can be applied to other linear regression models with multiple variables by adjusting the dimensions of X and theta accordingly."
   ]
  },
  {
   "cell_type": "code",
   "execution_count": 22,
   "id": "d5c05d27",
   "metadata": {},
   "outputs": [
    {
     "data": {
      "image/png": "[encoded data removed]",
      "text/plain": [
       "<Figure size 432x288 with 1 Axes>"
      ]
     },
     "metadata": {
      "needs_background": "light"
     },
     "output_type": "display_data"
    }
   ],
   "source": [
    "# plot the cost function vs the number of iterations\n",
    "plt.plot(np.arange(num_iters), J_history)\n",
    "plt.xlabel('Number of iterations')\n",
    "plt.ylabel('Cost function value')\n",
    "plt.show()\n"
   ]
  },
  {
   "cell_type": "markdown",
   "id": "13a6318b",
   "metadata": {},
   "source": [
    "This code generates a plot showing how the cost function value changes over the course of the optimization process. The x-axis represents the number of iterations, while the y-axis represents the value of the cost function. This plot can be used to visually confirm that the cost function decreases over time, and to check for convergence. If the cost function appears to plateau or oscillate, it may be necessary to adjust the learning rate or number of iterations to achieve convergence."
   ]
  },
  {
   "cell_type": "markdown",
   "id": "bddcf9be",
   "metadata": {},
   "source": [
    "### Example\n"
   ]
  },
  {
   "cell_type": "markdown",
   "id": "129ff4c7",
   "metadata": {},
   "source": [
    "We can obtain the optimal weights for a logistic regression model through gradient descent.  Our objective is to find a weight matrix $\\mathbf{w}$ such that $\\nabla J(\\mathbf{w})\\approx0$.  This is the value of $\\mathbf{w}$ that best predicts the correct class for training observations.  For a logistic regression model:\n",
    "\n",
    "$$\n",
    "\\nabla J(\\mathbf{w}) = \\begin{bmatrix}\n",
    "   -\\sum_i(y^{(i)}-\\phi(\\mathbf{w}\\cdot\\mathbf{x}^{(i)}))x_1^{(i)} \\\\\n",
    " \\vdots \\\\\n",
    "   -\\sum_i(y^{(i)}-\\phi(\\mathbf{w}\\cdot\\mathbf{x}^{(i)}))x_n^{(i)} \\\\\n",
    " \\end{bmatrix}\n",
    "$$\n",
    "\n",
    "Recall that $\\phi(z)$ is the logistic function, $(1+e^{-z})^{-1}$.\n",
    "\n",
    "In the accompanying template, you are given values of predictors $\\mathbf{X}$ and targets $\\mathbf{y}\\in\\{0,1\\}$.  The classes are linearly separable.  Using the above formula and a learning rate $\\eta=0.1$, apply gradient descent to find a value of $\\mathbf{w}$ such that $\\nabla J(\\mathbf{w}) \\approx \\mathbf{0}$ (i.e., values for $\\mathbf{w}$ that best separate the classes.) Using the code provided in the template, plot the decision boundary to visually demonstrate that the decision boundary separates the two classes."
   ]
  },
  {
   "cell_type": "code",
   "execution_count": 23,
   "id": "b9423879",
   "metadata": {},
   "outputs": [],
   "source": [
    "# GIVEN: X, y, phi(z)\n",
    "from sklearn.datasets import make_blobs\n",
    "from sklearn.preprocessing import StandardScaler\n",
    "\n",
    "X, y = make_blobs(50, 2, centers=[(-2,-2),(2,2)], random_state=42)\n",
    "X = StandardScaler().fit_transform(X)"
   ]
  },
  {
   "cell_type": "code",
   "execution_count": 24,
   "id": "ba11cbab",
   "metadata": {},
   "outputs": [],
   "source": [
    "# add the bias term\n",
    "X = np.c_[np.ones(len(X)), X]"
   ]
  },
  {
   "cell_type": "code",
   "execution_count": 25,
   "id": "dd445810",
   "metadata": {},
   "outputs": [],
   "source": [
    "# Initialize weights to zero\n",
    "w = np.zeros(X.shape[1])"
   ]
  },
  {
   "cell_type": "code",
   "execution_count": 26,
   "id": "176f6ad0",
   "metadata": {},
   "outputs": [],
   "source": [
    "# Logistic function ϕ(z)\n",
    "phi = lambda z: 1/(1+np.exp(-z))"
   ]
  },
  {
   "cell_type": "code",
   "execution_count": 27,
   "id": "f74f0f94",
   "metadata": {},
   "outputs": [],
   "source": [
    "def logistic(z):\n",
    "    return 1 / (1 + np.exp(-z))\n",
    "\n",
    "# Defining the gradient function\n",
    "def gradient(X, y, w):\n",
    "    z = X.dot(w)\n",
    "    error = y - logistic(z)\n",
    "    return -X.T.dot(error)\n",
    "\n",
    "# Setting the learning rate as 0.1\n",
    "eta = 0.1\n"
   ]
  },
  {
   "cell_type": "code",
   "execution_count": 28,
   "id": "83127541",
   "metadata": {},
   "outputs": [],
   "source": [
    "# Performing gradient descent\n",
    "for i in range(1000):\n",
    "    grad = gradient(X, y, w)\n",
    "    w -= eta * grad"
   ]
  },
  {
   "cell_type": "code",
   "execution_count": 29,
   "id": "f893513c",
   "metadata": {},
   "outputs": [
    {
     "data": {
      "image/png": "[encoded data removed]",
      "text/plain": [
       "<Figure size 432x288 with 1 Axes>"
      ]
     },
     "metadata": {
      "needs_background": "light"
     },
     "output_type": "display_data"
    }
   ],
   "source": [
    "# Plotting the decision boundary\n",
    "x1 = np.linspace(-3, 3, 10)\n",
    "x2 = -(w[0] + w[1]*x1) / w[2]\n",
    "plt.scatter(X[:,1], X[:,2], c=y)\n",
    "plt.plot(x1, x2, color='black')\n",
    "plt.xlabel('Feature 1')\n",
    "plt.ylabel('Feature 2')\n",
    "plt.title('Logistic Regression Decision Boundary')\n",
    "plt.show()"
   ]
  }
 ],
 "metadata": {
  "kernelspec": {
   "display_name": "Python 3 (ipykernel)",
   "language": "python",
   "name": "python3"
  },
  "language_info": {
   "codemirror_mode": {
    "name": "ipython",
    "version": 3
   },
   "file_extension": ".py",
   "mimetype": "text/x-python",
   "name": "python",
   "nbconvert_exporter": "python",
   "pygments_lexer": "ipython3",
   "version": "3.9.12"
  }
 },
 "nbformat": 4,
 "nbformat_minor": 5
}
